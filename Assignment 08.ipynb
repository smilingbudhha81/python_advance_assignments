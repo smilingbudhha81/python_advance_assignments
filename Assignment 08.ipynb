{
 "cells": [
  {
   "cell_type": "markdown",
   "metadata": {},
   "source": [
    "# Assignment 08"
   ]
  },
  {
   "cell_type": "markdown",
   "metadata": {},
   "source": [
    "# Q1. What are the two latest user-defined exception constraints in Python 3.X?\n",
    "\n",
    "\n",
    "\n",
    "\n",
    "ANS =\n",
    "\n",
    "raise statement - This is used to raise an inbuilt exception explicitly.\n",
    "\n",
    "assert statement - when condition in assert statement is true, program is executed normally. When condition is false, program gives an AssertionError.\n",
    "\n",
    "\n",
    "\n",
    "\n",
    "# Q2. How are class-based exceptions that have been raised matched to handlers?\n",
    "\n",
    "\n",
    "\n",
    "ANS =\n",
    "\n",
    "\n",
    "When exceptions are raised, then the exception is handled by the same class mentioned in except statement or its base classes. \"Exception\" is the base class(Superclass) for all other exception classes.\n",
    "\n",
    "\n",
    "\n",
    "\n",
    "\n",
    "\n",
    "# Q3. Describe two methods for attaching context information to exception artefacts.\n",
    "\n",
    "\n",
    "\n",
    "\n",
    "ANS =\n",
    "\n",
    "\n",
    "The process() method of LoggerAdapter is where the contextual information is added to the logging output. its passes the message and keyword arguments of the logging call, and it passes back modified versions of these to use in the call to the underlying logger.\n",
    "\n",
    "Other method that can be used is exception(), Logs a messgae with level ERROR on this logger. The arguments are interpreted as for debug(). Exception info is added to the logging message.\n",
    "\n",
    "\n",
    "\n",
    "# Q4. Describe two methods for specifying the text of an exception object's error message.\n",
    "\n",
    "\n",
    "\n",
    "\n",
    "ANS =\n",
    "\n",
    "\n",
    " raise and assert are two methods for specifying the text of an exception object's error message.raise statement is used to trigger explicit exception, if certain condition is not as per requirement of programmer. it helps in triggering exception as per need of programmer and logic.\n",
    "\n",
    "There are few assertions that programmer always want to be True to avoid code failure. This type of requirment is fullfilled by assert statement. This statement takes a Boolean Condition output of which if True, further program executes. if output of assert statement is False it raises an Assertion Error.\n",
    "\n",
    "\n",
    "\n",
    "# Q5. Why do you no longer use string-based exceptions?\n",
    "\n",
    "\n",
    "\n",
    "\n",
    "ANS =\n",
    "\n",
    "\n",
    " String-based Exceptions doesn't inherit from Exceptions. so plain exceptions catch all exceptions and not only system.\n",
    "\n"
   ]
  },
  {
   "cell_type": "code",
   "execution_count": null,
   "metadata": {},
   "outputs": [],
   "source": []
  }
 ],
 "metadata": {
  "kernelspec": {
   "display_name": "Python 3",
   "language": "python",
   "name": "python3"
  },
  "language_info": {
   "codemirror_mode": {
    "name": "ipython",
    "version": 3
   },
   "file_extension": ".py",
   "mimetype": "text/x-python",
   "name": "python",
   "nbconvert_exporter": "python",
   "pygments_lexer": "ipython3",
   "version": "3.8.5"
  }
 },
 "nbformat": 4,
 "nbformat_minor": 5
}
