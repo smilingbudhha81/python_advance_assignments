{
 "cells": [
  {
   "cell_type": "markdown",
   "metadata": {},
   "source": [
    "# Assignment 17"
   ]
  },
  {
   "cell_type": "markdown",
   "metadata": {},
   "source": [
    "# # Q1. Explain the difference between greedy and non-greedy syntax with visual terms in as few words as possible. What is the bare minimum effort required to transform a greedy pattern into a non-greedy one? What characters or characters can you introduce or change?\n",
    "\n",
    "\n",
    "\n",
    "\n",
    "\n",
    "ANS = \n",
    "\n",
    "\n",
    "\n",
    "The Main difference between Greedy and Non Greedy Match Syntax is The Greedy Match will try to match as many repetitions of the quantified pattern as possible Whereas The Non Greedy Match will try to match as few repetitions of the quantified pattern as possible.\n",
    "\n",
    "\n",
    "\n",
    "# Q2. When exactly does greedy versus non-greedy make a difference?  What if you're looking for a non-greedy match but the only one available is greedy?\n",
    "\n",
    "\n",
    "\n",
    "\n",
    "\n",
    "ANS = \n",
    "\n",
    "\n",
    "\n",
    "\n",
    "In the non-greedy version of the regex, Python matches the shortest possible string. In the greedy version, \n",
    "   Python matches the longest possible string. If only non greedy match is available, we can use other filtering \n",
    "      or pattern matching methods of regex and further identify the required pattern.\n",
    "\n",
    "\n",
    "# Q3. In a simple match of a string, which looks only for one match and does not do any replacement, is the use of a nontagged group likely to make any practical difference?\n",
    "\n",
    "\n",
    "\n",
    "\n",
    "\n",
    "ANS = \n",
    "\n",
    "In this Case The Non Tagged Group will not make any diffrence in this case.\n"
   ]
  },
  {
   "cell_type": "code",
   "execution_count": 1,
   "metadata": {},
   "outputs": [
    {
     "name": "stdout",
     "output_type": "stream",
     "text": [
      "Phone number found: 415\n",
      "Phone number found: 415\n"
     ]
    }
   ],
   "source": [
    "# Ans : \n",
    "import re\n",
    "phoneNumRegex = re.compile(r'\\d\\d\\d')\n",
    "mo = phoneNumRegex.search('My number is 415-555-4242.')\n",
    "print('Phone number found: ' + mo.group()) # non tagged group\n",
    "print('Phone number found: ' + mo.group(0))"
   ]
  },
  {
   "cell_type": "markdown",
   "metadata": {},
   "source": [
    "\n",
    "\n",
    "\n",
    "# # Q4. Describe a scenario in which using a nontagged category would have a significant impact on the program's outcomes.\n",
    "\n",
    "\n",
    "\n",
    "\n",
    "ANS = \n",
    "\n",
    " Here in the below Code Snippet . decimal is not tagged or captured. It will useful in scenarios where the separator of value in a string is of no use and we need to capture only the value\n"
   ]
  },
  {
   "cell_type": "code",
   "execution_count": 2,
   "metadata": {
    "scrolled": true
   },
   "outputs": [
    {
     "data": {
      "text/plain": [
       "('135', '456')"
      ]
     },
     "execution_count": 2,
     "metadata": {},
     "output_type": "execute_result"
    }
   ],
   "source": [
    "text='135.456'\n",
    "pattern=r'(\\d+)(?:.)(\\d+)'\n",
    "regobj=re.compile(pattern)\n",
    "matobj=regobj.search(text)\n",
    "matobj.groups()"
   ]
  },
  {
   "cell_type": "markdown",
   "metadata": {},
   "source": [
    "\n",
    "\n",
    "# Q5. Unlike a normal regex pattern, a look-ahead condition does not consume the characters it examines. Describe a situation in which this could make a difference in the results of your programme.\n",
    "\n",
    "\n",
    "\n",
    "\n",
    "ANS = \n",
    "\n",
    "\n",
    "While counting the number of multiple lines or mutiple sentence in a string the positive look ahead makes a difference, without which we wont get the correct count of lines or sentences in a string.\n",
    "\n",
    "\n",
    "# Q6. In standard expressions, what is the difference between positive look-ahead and negative look-ahead?\n",
    "\n",
    "\n",
    "\n",
    "\n",
    "ANS = \n"
   ]
  },
  {
   "cell_type": "code",
   "execution_count": 3,
   "metadata": {},
   "outputs": [
    {
     "name": "stdout",
     "output_type": "stream",
     "text": [
      "Positive lookahead: ['abc']\n",
      "Negative look ahead: ['abc']\n"
     ]
    }
   ],
   "source": [
    "# Ans : Positive look ahead is an assertion continuing the search and extending the string e.g.pattern= r'abc(?=[A-Z])''. \n",
    "#       Here after 'abc', ? is extending the search and says that in the remaining string, first identify the next \n",
    "#       charater should be capitalized character between A and Z, but doesnt consume it.\n",
    "#       Example of Positive lookahead\n",
    "import re\n",
    "pat=r'abc(?=[A-Z])'\n",
    "text=\"abcABCEF\"\n",
    "regobj=re.compile(pat)\n",
    "matobj=regobj.findall(text)\n",
    "print(\"Positive lookahead:\",matobj)\n",
    "\n",
    "#       Negative look head is also an assertion to exclude certain patterns e.g. pattern = r'abc(?!abc)', means \n",
    "#       identify a substring containing \n",
    "#       'abc' which is not followed by another 'abc'\n",
    "#       Example of Negative lookahead\n",
    "import re\n",
    "pat1=r'abc(?!abc)'\n",
    "text1=\"aeiouabcabc\"\n",
    "regobj1=re.compile(pat1)\n",
    "matobj1=regobj1.findall(text)\n",
    "print(\"Negative look ahead:\",matobj1) "
   ]
  },
  {
   "cell_type": "markdown",
   "metadata": {},
   "source": [
    "\n",
    "\n",
    "\n",
    "\n",
    "# # Q7. What is the benefit of referring to groups by name rather than by number in a standard expression?\n",
    "\n",
    "\n",
    "\n",
    "\n",
    "ANS = \n",
    "\n",
    "\n",
    "The benifit of referring to the groups by name is that\n",
    "  1)The code is clear\n",
    "  2)It is easier to maimtain the code.\n",
    "\n",
    "\n",
    "\n",
    "\n",
    "# Q8. Can you identify repeated items within a target string using named groups, as in \"The cow jumped over the moon\"?\n",
    "\n",
    "\n",
    "\n",
    "\n",
    "ANS = \n",
    "\n"
   ]
  },
  {
   "cell_type": "code",
   "execution_count": null,
   "metadata": {},
   "outputs": [],
   "source": [
    "# Ans : \n",
    "import re\n",
    "text = \"The cow jumped over the moon\"\n",
    "regobj=re.compile(r'(?P<w1>The)',re.I)\n",
    "regobj.findall(text)"
   ]
  },
  {
   "cell_type": "markdown",
   "metadata": {},
   "source": [
    "\n",
    "\n",
    "\n",
    "# # Q9. When parsing a string, what is at least one thing that the Scanner interface does for you that the re.findall feature does not?\n",
    "\n",
    "\n",
    "\n",
    "\n",
    "\n",
    "ANS = \n",
    "\n",
    "\n",
    "\n",
    "re.findall() module is used to search for all occurrences that match a given pattern. In contrast, re.search() will only return the first occurrence that matches the specified pattern. re.findall() will iterate over all the lines of the file and will return all non-overlapping matches of pattern in a single step.\n",
    "\n",
    "\n",
    "\n",
    "# Q10. Does a scanner object have to be named scanner?\n",
    "\n",
    "\n",
    "\n",
    "ANS = \n",
    "\n",
    "\n",
    "Yes, It may have any name."
   ]
  },
  {
   "cell_type": "code",
   "execution_count": null,
   "metadata": {},
   "outputs": [],
   "source": []
  }
 ],
 "metadata": {
  "kernelspec": {
   "display_name": "Python 3",
   "language": "python",
   "name": "python3"
  },
  "language_info": {
   "codemirror_mode": {
    "name": "ipython",
    "version": 3
   },
   "file_extension": ".py",
   "mimetype": "text/x-python",
   "name": "python",
   "nbconvert_exporter": "python",
   "pygments_lexer": "ipython3",
   "version": "3.8.5"
  }
 },
 "nbformat": 4,
 "nbformat_minor": 5
}
